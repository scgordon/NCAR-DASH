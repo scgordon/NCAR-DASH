{
 "cells": [
  {
   "cell_type": "markdown",
   "metadata": {
    "collapsed": true
   },
   "source": [
    "<img src=\"../presentation/HDFhub/Slide01.jpg\" width=\"480\"/>"
   ]
  },
  {
   "cell_type": "markdown",
   "metadata": {},
   "source": [
    "# This is a header in a markdown cell\n",
    "\n",
    "### This is a smaller header\n",
    "\n",
    "...and some normal text."
   ]
  },
  {
   "cell_type": "markdown",
   "metadata": {},
   "source": [
    "Sometimes you'll want to comment using equations and you can use LaTeX: $$e^x=\\sum_{i=0}^\\infty \\frac{1}{i!}x^i$$\n"
   ]
  },
  {
   "cell_type": "markdown",
   "metadata": {},
   "source": [
    "We will use these libraries:"
   ]
  },
  {
   "cell_type": "code",
   "execution_count": null,
   "metadata": {
    "collapsed": true
   },
   "outputs": [],
   "source": [
    "import numpy as np\n",
    "import matplotlib.pyplot as plt\n",
    "from IPython.display import HTML\n",
    "%matplotlib inline"
   ]
  },
  {
   "cell_type": "markdown",
   "metadata": {},
   "source": [
    "We can add some data:"
   ]
  },
  {
   "cell_type": "code",
   "execution_count": null,
   "metadata": {
    "collapsed": true
   },
   "outputs": [],
   "source": [
    "x=[]\n",
    "for i in range(12):\n",
    "    x.append(i)\n",
    "x=x[1:12]  \n",
    "x"
   ]
  },
  {
   "cell_type": "markdown",
   "metadata": {},
   "source": [
    "You can include your visualizations right next to the code and data they were created from:"
   ]
  },
  {
   "cell_type": "code",
   "execution_count": null,
   "metadata": {
    "collapsed": true
   },
   "outputs": [],
   "source": [
    "plt.plot(x,np.log(x), linewidth=40.0)\n",
    "plt.xlabel('Quarter', fontsize=200)\n",
    "plt.ylabel('Profit', fontsize=200)\n",
    "plt.title('The HDF Group Profit Margin Rises Dramatically After Adopting JupyterHub', fontsize=200)\n",
    "plt.yticks([.5,1,1.5,2.0,2.5],['.5B','1B','1.5B','2.0B','2.5B'], fontsize=200)\n",
    "plt.xticks([1,2,3,4,5,6,7,8],['1st_y1','2nd_y1','3rd_y1','4th_y1', '1st_y2','2nd_y2','3rd_y2','4th_y2'], fontsize=200)\n",
    "plt.grid()\n",
    "plt.figure.figsize = [140,50]"
   ]
  },
  {
   "cell_type": "markdown",
   "metadata": {},
   "source": [
    "<img src=\"../presentation/HDFhub/Slide02.jpg\" width=\"480\"/>"
   ]
  },
  {
   "cell_type": "code",
   "execution_count": null,
   "metadata": {
    "collapsed": true
   },
   "outputs": [],
   "source": [
    "HTML('<p style=\"text-align:center\"><iframe  width=\"560\" height=\"315\" src=\"https://www.youtube.com/embed/8OpMAlYyH5Y?rel=0&autoplay=1&amp;controls=0&amp;showinfo=0\" frameborder=\"0\" allowfullscreen></iframe></p>')\n"
   ]
  },
  {
   "cell_type": "code",
   "execution_count": null,
   "metadata": {
    "collapsed": true
   },
   "outputs": [],
   "source": []
  },
  {
   "cell_type": "markdown",
   "metadata": {},
   "source": [
    "<img src=\"../presentation/HDFhub/Slide05.jpg\" width=\"480\"/>"
   ]
  },
  {
   "cell_type": "markdown",
   "metadata": {},
   "source": [
    "<img src=\"../presentation/HDFhub/Slide03.jpg\" width=\"480\"/>"
   ]
  },
  {
   "cell_type": "markdown",
   "metadata": {},
   "source": [
    "<img src=\"../presentation/HDFhub/Slide06.jpg\" width=\"480\"/>"
   ]
  },
  {
   "cell_type": "markdown",
   "metadata": {},
   "source": [
    "<img src=\"../presentation/HDFhub/Slide12.jpg\" width=\"480\"/>"
   ]
  },
  {
   "cell_type": "markdown",
   "metadata": {},
   "source": [
    "<img src=\"../presentation/HDFhub/Slide16.jpg\" width=\"480\"/>"
   ]
  },
  {
   "cell_type": "markdown",
   "metadata": {},
   "source": [
    "<img src=\"../presentation/HDFhub/Slide17.jpg\" width=\"480\"/>"
   ]
  },
  {
   "cell_type": "markdown",
   "metadata": {
    "collapsed": true
   },
   "source": [
    "<img src=\"../presentation/HDFhub/Slide18.jpg\" width=\"480\"/>"
   ]
  },
  {
   "cell_type": "markdown",
   "metadata": {
    "collapsed": true
   },
   "source": [
    "<img src=\"../presentation/HDFhub/Slide19.jpg\" width=\"480\"/>"
   ]
  },
  {
   "cell_type": "markdown",
   "metadata": {
    "collapsed": true
   },
   "source": [
    "<img src=\"../presentation/HDFhub/Slide20.jpg\" width=\"480\"/>"
   ]
  },
  {
   "cell_type": "markdown",
   "metadata": {
    "collapsed": true
   },
   "source": [
    "<img src=\"../presentation/HDFhub/Slide21.jpg\" width=\"480\"/>"
   ]
  },
  {
   "cell_type": "markdown",
   "metadata": {
    "collapsed": true
   },
   "source": [
    "<img src=\"../presentation/HDFhub/Slide22.jpg\" width=\"480\"/>"
   ]
  },
  {
   "cell_type": "markdown",
   "metadata": {
    "collapsed": true
   },
   "source": [
    "<img src=\"../presentation/HDFhub/Slide23.jpg\" width=\"480\"/>"
   ]
  },
  {
   "cell_type": "markdown",
   "metadata": {
    "collapsed": true
   },
   "source": [
    "#### Here's a link to the notebook that a user can employ to create a package out of their XML collection, and send that package to a webservice. \n",
    "#### The webservice will evaluate the collection for conceptual content and provide a table of all identified concepts and all nodes that are unidentified, along with their content and position for each record in the collection. Further notebooks allow the user to analyze the data table in a number of ways.\n",
    "\n",
    "* [Metadata to Data](01Metadata2Data.ipynb)"
   ]
  }
 ],
 "metadata": {
  "kernelspec": {
   "display_name": "Python 3",
   "language": "python",
   "name": "python3"
  },
  "language_info": {
   "codemirror_mode": {
    "name": "ipython",
    "version": 3
   },
   "file_extension": ".py",
   "mimetype": "text/x-python",
   "name": "python",
   "nbconvert_exporter": "python",
   "pygments_lexer": "ipython3",
   "version": "3.6.1"
  }
 },
 "nbformat": 4,
 "nbformat_minor": 2
}
